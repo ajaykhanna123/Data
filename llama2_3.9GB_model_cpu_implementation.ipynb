{
 "cells": [
  {
   "cell_type": "code",
   "execution_count": 2,
   "id": "cb141a9e",
   "metadata": {},
   "outputs": [],
   "source": [
    "from langchain import PromptTemplate\n",
    "from langchain.chains import RetrievalQA\n",
    "from langchain.embeddings import HuggingFaceEmbeddings\n",
    "from langchain.vectorstores import FAISS\n",
    "from langchain.document_loaders import PyPDFLoader, DirectoryLoader\n",
    "from langchain.document_loaders import TextLoader\n",
    "from langchain.text_splitter import RecursiveCharacterTextSplitter\n",
    "from langchain.llms import CTransformers\n",
    "import sys\n",
    "import datetime"
   ]
  },
  {
   "cell_type": "code",
   "execution_count": 23,
   "id": "c1aa1f3f",
   "metadata": {},
   "outputs": [],
   "source": [
    "\n",
    "\n",
    "loader = TextLoader(\"llama2_text.txt\")\n",
    "documents=loader.load()"
   ]
  },
  {
   "cell_type": "code",
   "execution_count": 24,
   "id": "b3f6afb6",
   "metadata": {},
   "outputs": [],
   "source": [
    "text_splitter=RecursiveCharacterTextSplitter(\n",
    "                                             chunk_size=500,\n",
    "                                             chunk_overlap=20)"
   ]
  },
  {
   "cell_type": "code",
   "execution_count": 25,
   "id": "00bc87fb",
   "metadata": {},
   "outputs": [
    {
     "name": "stdout",
     "output_type": "stream",
     "text": [
      "34\n"
     ]
    }
   ],
   "source": [
    "text_chunks=text_splitter.split_documents(documents)\n",
    "\n",
    "print(len(text_chunks))"
   ]
  },
  {
   "cell_type": "code",
   "execution_count": 26,
   "id": "56b3df5d",
   "metadata": {},
   "outputs": [],
   "source": [
    "embeddings=HuggingFaceEmbeddings(model_name='sentence-transformers/all-MiniLM-L6-v2', model_kwargs={'device':'cpu'})\n",
    "\n",
    "\n",
    "#**Step 4: Convert the Text Chunks into Embeddings and Create a FAISS Vector Store***\n",
    "vector_store=FAISS.from_documents(text_chunks, embeddings)\n",
    "\n",
    "\n",
    "##**Step 5: Find the Top 3 Answers for the Query***\n",
    "\n",
    "query=\"YOLOv7 outperforms which models\"\n",
    "docs = vector_store.similarity_search(query)"
   ]
  },
  {
   "cell_type": "code",
   "execution_count": 27,
   "id": "60c54a51",
   "metadata": {},
   "outputs": [
    {
     "name": "stdout",
     "output_type": "stream",
     "text": [
      "[Document(page_content=\"LLaMA (Large Language Model Meta AI) is a large language model (LLM) released by Meta AI in February 2023. Four model sizes were trained: 7, 13, 33 and 65 billion parameters. LLaMA's developers reported that the 13B parameter model's performance on most NLP benchmarks exceeded that of the much larger GPT-3 (with 175B parameters) and that the largest model was competitive with state of the art models such as PaLM and Chinchilla.[1] Whereas the most powerful LLMs have generally been accessible\", metadata={'source': 'llama2_text.txt'}), Document(page_content='Vincent, James (8 March 2023). \"Meta\\'s powerful AI language model has leaked online â€” what happens now?\". The Verge.\\n \"Meta and Microsoft Introduce the Next Generation of Llama\". Meta. 18 July 2023. Retrieved 21 July 2023.\\n Touvron, Hugo Touvron; Martin, Louis; et al. (18 Jul 2023). \"Llama 2: Open Foundation and Fine-Tuned Chat Models\". arXiv:2307.09288 [cs.CL].\\n Shazeer, Noam (2020-02-01). \"GLU Variants Improve Transformer\". arXiv:2104.09864 [cs.CL].', metadata={'source': 'llama2_text.txt'}), Document(page_content='LLaMA 1 foundational models were trained on a data set with 1.4 trillion tokens, drawn from publicly available data sources, including:[1]', metadata={'source': 'llama2_text.txt'}), Document(page_content='LLaMA was announced on February 23, 2023, via a blog post and a paper describing the model\\'s training, architecture, and performance.[1][2] The inference code used to run the model was publicly released under the open-source GPL 3 license.[10] Access to the model\\'s weights was managed by an application process, with access to be granted \"on a case-by-case basis to academic researchers; those affiliated with organizations in government, civil society, and academia; and industry research', metadata={'source': 'llama2_text.txt'})]\n"
     ]
    }
   ],
   "source": [
    "print(docs)"
   ]
  },
  {
   "cell_type": "code",
   "execution_count": 28,
   "id": "17ca39d1",
   "metadata": {},
   "outputs": [],
   "source": [
    "llm=CTransformers(model=\"llama-2-7b-chat.ggmlv3.q4_0.bin\",\n",
    "                  model_type=\"llama\",\n",
    "                  config={'max_new_tokens':500,\n",
    "                          'temperature':0.1})"
   ]
  },
  {
   "cell_type": "code",
   "execution_count": 29,
   "id": "00c96b0e",
   "metadata": {},
   "outputs": [],
   "source": [
    "template=\"\"\"Use the following pieces of information to answer the user's question.\n",
    "If you dont know the answer just say you know, don't try to make up an answer.\n",
    "\n",
    "Context:{context}\n",
    "Question:{question}\n",
    "\n",
    "Only return the helpful answer below and nothing else\n",
    "Helpful answer\n",
    "\"\"\"\n",
    "\n",
    "qa_prompt=PromptTemplate(template=template, input_variables=['context', 'question'])\n",
    "\n",
    "#start=timeit.default_timer()\n",
    "\n",
    "chain = RetrievalQA.from_chain_type(llm=llm,\n",
    "                                   chain_type='stuff',\n",
    "                                   retriever=vector_store.as_retriever(search_kwargs={'k': 2}),\n",
    "                                   return_source_documents=True,\n",
    "                                   chain_type_kwargs={'prompt': qa_prompt})"
   ]
  },
  {
   "cell_type": "code",
   "execution_count": 33,
   "id": "eba28814",
   "metadata": {},
   "outputs": [
    {
     "name": "stdout",
     "output_type": "stream",
     "text": [
      "LLaMA was announced on February 23, 2023 via a blog post and paper describing the model's training, architecture, and performance.\n",
      "time taken - 0:01:03.556324\n"
     ]
    }
   ],
   "source": [
    "a = datetime.datetime.now()\n",
    "question=\"when was llama announced?\"\n",
    "chat_history=[]\n",
    "result=chain({'query':question,\"chat_history\": chat_history})\n",
    "print(result['result'])\n",
    "b = datetime.datetime.now()\n",
    "print(\"time taken -\",b-a)"
   ]
  },
  {
   "cell_type": "code",
   "execution_count": 34,
   "id": "f45bd956",
   "metadata": {},
   "outputs": [
    {
     "name": "stdout",
     "output_type": "stream",
     "text": [
      "The length of Llama 2 - Chat is 4K tokens.\n",
      "time taken - 0:00:56.699026\n"
     ]
    }
   ],
   "source": [
    "a = datetime.datetime.now()\n",
    "question=\"What is length of  Llama 2 - Chat? \"\n",
    "chat_history=[]\n",
    "result=chain({'query':question,\"chat_history\": chat_history})\n",
    "print(result['result'])\n",
    "b = datetime.datetime.now()\n",
    "print(\"time taken -\",b-a)"
   ]
  },
  {
   "cell_type": "code",
   "execution_count": null,
   "id": "434a424b",
   "metadata": {},
   "outputs": [],
   "source": []
  },
  {
   "cell_type": "code",
   "execution_count": null,
   "id": "11a94bf1",
   "metadata": {},
   "outputs": [],
   "source": []
  }
 ],
 "metadata": {
  "kernelspec": {
   "display_name": "Python310",
   "language": "python",
   "name": "python310"
  },
  "language_info": {
   "codemirror_mode": {
    "name": "ipython",
    "version": 3
   },
   "file_extension": ".py",
   "mimetype": "text/x-python",
   "name": "python",
   "nbconvert_exporter": "python",
   "pygments_lexer": "ipython3",
   "version": "3.10.12"
  }
 },
 "nbformat": 4,
 "nbformat_minor": 5
}
